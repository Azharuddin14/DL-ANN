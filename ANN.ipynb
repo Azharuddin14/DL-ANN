{
 "cells": [
  {
   "cell_type": "code",
   "execution_count": 1,
   "metadata": {},
   "outputs": [],
   "source": [
    "import numpy as np\n",
    "import matplotlib.pyplot as plt\n",
    "import pandas as pd"
   ]
  },
  {
   "cell_type": "code",
   "execution_count": 2,
   "metadata": {},
   "outputs": [],
   "source": [
    "dataset = pd.read_csv('C:\\\\Users\\\\Azhar\\\\Downloads\\\\Complete-Deep-Learning-master\\\\Complete-Deep-Learning-master\\\\ANN\\\\Churn_Modelling.csv')"
   ]
  },
  {
   "cell_type": "code",
   "execution_count": 3,
   "metadata": {},
   "outputs": [
    {
     "data": {
      "text/html": [
       "<div>\n",
       "<style scoped>\n",
       "    .dataframe tbody tr th:only-of-type {\n",
       "        vertical-align: middle;\n",
       "    }\n",
       "\n",
       "    .dataframe tbody tr th {\n",
       "        vertical-align: top;\n",
       "    }\n",
       "\n",
       "    .dataframe thead th {\n",
       "        text-align: right;\n",
       "    }\n",
       "</style>\n",
       "<table border=\"1\" class=\"dataframe\">\n",
       "  <thead>\n",
       "    <tr style=\"text-align: right;\">\n",
       "      <th></th>\n",
       "      <th>RowNumber</th>\n",
       "      <th>CustomerId</th>\n",
       "      <th>Surname</th>\n",
       "      <th>CreditScore</th>\n",
       "      <th>Geography</th>\n",
       "      <th>Gender</th>\n",
       "      <th>Age</th>\n",
       "      <th>Tenure</th>\n",
       "      <th>Balance</th>\n",
       "      <th>NumOfProducts</th>\n",
       "      <th>HasCrCard</th>\n",
       "      <th>IsActiveMember</th>\n",
       "      <th>EstimatedSalary</th>\n",
       "      <th>Exited</th>\n",
       "    </tr>\n",
       "  </thead>\n",
       "  <tbody>\n",
       "    <tr>\n",
       "      <td>0</td>\n",
       "      <td>1</td>\n",
       "      <td>15634602</td>\n",
       "      <td>Hargrave</td>\n",
       "      <td>619</td>\n",
       "      <td>France</td>\n",
       "      <td>Female</td>\n",
       "      <td>42</td>\n",
       "      <td>2</td>\n",
       "      <td>0.00</td>\n",
       "      <td>1</td>\n",
       "      <td>1</td>\n",
       "      <td>1</td>\n",
       "      <td>101348.88</td>\n",
       "      <td>1</td>\n",
       "    </tr>\n",
       "    <tr>\n",
       "      <td>1</td>\n",
       "      <td>2</td>\n",
       "      <td>15647311</td>\n",
       "      <td>Hill</td>\n",
       "      <td>608</td>\n",
       "      <td>Spain</td>\n",
       "      <td>Female</td>\n",
       "      <td>41</td>\n",
       "      <td>1</td>\n",
       "      <td>83807.86</td>\n",
       "      <td>1</td>\n",
       "      <td>0</td>\n",
       "      <td>1</td>\n",
       "      <td>112542.58</td>\n",
       "      <td>0</td>\n",
       "    </tr>\n",
       "    <tr>\n",
       "      <td>2</td>\n",
       "      <td>3</td>\n",
       "      <td>15619304</td>\n",
       "      <td>Onio</td>\n",
       "      <td>502</td>\n",
       "      <td>France</td>\n",
       "      <td>Female</td>\n",
       "      <td>42</td>\n",
       "      <td>8</td>\n",
       "      <td>159660.80</td>\n",
       "      <td>3</td>\n",
       "      <td>1</td>\n",
       "      <td>0</td>\n",
       "      <td>113931.57</td>\n",
       "      <td>1</td>\n",
       "    </tr>\n",
       "    <tr>\n",
       "      <td>3</td>\n",
       "      <td>4</td>\n",
       "      <td>15701354</td>\n",
       "      <td>Boni</td>\n",
       "      <td>699</td>\n",
       "      <td>France</td>\n",
       "      <td>Female</td>\n",
       "      <td>39</td>\n",
       "      <td>1</td>\n",
       "      <td>0.00</td>\n",
       "      <td>2</td>\n",
       "      <td>0</td>\n",
       "      <td>0</td>\n",
       "      <td>93826.63</td>\n",
       "      <td>0</td>\n",
       "    </tr>\n",
       "    <tr>\n",
       "      <td>4</td>\n",
       "      <td>5</td>\n",
       "      <td>15737888</td>\n",
       "      <td>Mitchell</td>\n",
       "      <td>850</td>\n",
       "      <td>Spain</td>\n",
       "      <td>Female</td>\n",
       "      <td>43</td>\n",
       "      <td>2</td>\n",
       "      <td>125510.82</td>\n",
       "      <td>1</td>\n",
       "      <td>1</td>\n",
       "      <td>1</td>\n",
       "      <td>79084.10</td>\n",
       "      <td>0</td>\n",
       "    </tr>\n",
       "  </tbody>\n",
       "</table>\n",
       "</div>"
      ],
      "text/plain": [
       "   RowNumber  CustomerId   Surname  CreditScore Geography  Gender  Age  \\\n",
       "0          1    15634602  Hargrave          619    France  Female   42   \n",
       "1          2    15647311      Hill          608     Spain  Female   41   \n",
       "2          3    15619304      Onio          502    France  Female   42   \n",
       "3          4    15701354      Boni          699    France  Female   39   \n",
       "4          5    15737888  Mitchell          850     Spain  Female   43   \n",
       "\n",
       "   Tenure    Balance  NumOfProducts  HasCrCard  IsActiveMember  \\\n",
       "0       2       0.00              1          1               1   \n",
       "1       1   83807.86              1          0               1   \n",
       "2       8  159660.80              3          1               0   \n",
       "3       1       0.00              2          0               0   \n",
       "4       2  125510.82              1          1               1   \n",
       "\n",
       "   EstimatedSalary  Exited  \n",
       "0        101348.88       1  \n",
       "1        112542.58       0  \n",
       "2        113931.57       1  \n",
       "3         93826.63       0  \n",
       "4         79084.10       0  "
      ]
     },
     "execution_count": 3,
     "metadata": {},
     "output_type": "execute_result"
    }
   ],
   "source": [
    "dataset.head()"
   ]
  },
  {
   "cell_type": "code",
   "execution_count": 4,
   "metadata": {},
   "outputs": [],
   "source": [
    "X = dataset.iloc[:, 3:13]\n",
    "y = dataset.iloc[:, 13]"
   ]
  },
  {
   "cell_type": "code",
   "execution_count": 5,
   "metadata": {},
   "outputs": [],
   "source": [
    "#Create dummy variables\n",
    "geography=pd.get_dummies(X[\"Geography\"],drop_first=True)\n",
    "gender=pd.get_dummies(X['Gender'],drop_first=True)"
   ]
  },
  {
   "cell_type": "code",
   "execution_count": 6,
   "metadata": {},
   "outputs": [],
   "source": [
    "## Concatenate the Data Frames\n",
    "\n",
    "X=pd.concat([X,geography,gender],axis=1)"
   ]
  },
  {
   "cell_type": "code",
   "execution_count": 7,
   "metadata": {},
   "outputs": [],
   "source": [
    "## Drop Unnecessary columns\n",
    "X=X.drop(['Geography','Gender'],axis=1)"
   ]
  },
  {
   "cell_type": "code",
   "execution_count": 8,
   "metadata": {},
   "outputs": [],
   "source": [
    "# Splitting the dataset into the Training set and Test set\n",
    "from sklearn.model_selection import train_test_split\n",
    "X_train, X_test, y_train, y_test = train_test_split(X, y, test_size = 0.2, random_state = 0)"
   ]
  },
  {
   "cell_type": "code",
   "execution_count": 9,
   "metadata": {},
   "outputs": [],
   "source": [
    "# Feature Scaling\n",
    "from sklearn.preprocessing import StandardScaler\n",
    "sc = StandardScaler()\n",
    "X_train = sc.fit_transform(X_train)\n",
    "X_test = sc.transform(X_test)"
   ]
  },
  {
   "cell_type": "code",
   "execution_count": 10,
   "metadata": {},
   "outputs": [
    {
     "name": "stderr",
     "output_type": "stream",
     "text": [
      "Using TensorFlow backend.\n"
     ]
    }
   ],
   "source": [
    "# Part 2 - Now let's make the ANN!\n",
    "\n",
    "# Importing the Keras libraries and packages\n",
    "import keras\n",
    "from keras.models import Sequential\n",
    "from keras.layers import Dense\n",
    "from keras.layers import LeakyReLU,PReLU,ELU\n",
    "from keras.layers import Dropout"
   ]
  },
  {
   "cell_type": "code",
   "execution_count": 11,
   "metadata": {},
   "outputs": [],
   "source": [
    "# Initialising the ANN\n",
    "classifier = Sequential()"
   ]
  },
  {
   "cell_type": "code",
   "execution_count": 12,
   "metadata": {},
   "outputs": [
    {
     "name": "stderr",
     "output_type": "stream",
     "text": [
      "C:\\Users\\Azhar\\Anaconda3\\lib\\site-packages\\ipykernel_launcher.py:2: UserWarning: Update your `Dense` call to the Keras 2 API: `Dense(activation=\"relu\", input_dim=11, units=8, kernel_initializer=\"he_uniform\")`\n",
      "  \n",
      "C:\\Users\\Azhar\\Anaconda3\\lib\\site-packages\\ipykernel_launcher.py:5: UserWarning: Update your `Dense` call to the Keras 2 API: `Dense(activation=\"relu\", units=12, kernel_initializer=\"he_uniform\")`\n",
      "  \"\"\"\n",
      "C:\\Users\\Azhar\\Anaconda3\\lib\\site-packages\\ipykernel_launcher.py:8: UserWarning: Update your `Dense` call to the Keras 2 API: `Dense(activation=\"sigmoid\", units=1, kernel_initializer=\"glorot_uniform\")`\n",
      "  \n"
     ]
    }
   ],
   "source": [
    "# Adding the input layer and the first hidden layer\n",
    "classifier.add(Dense(output_dim = 8, init = 'he_uniform',activation='relu',input_dim = 11))\n",
    "\n",
    "# Adding the second hidden layer\n",
    "classifier.add(Dense(output_dim = 12, init = 'he_uniform',activation='relu'))\n",
    "\n",
    "# Adding the output layer\n",
    "classifier.add(Dense(output_dim = 1, init = 'glorot_uniform', activation = 'sigmoid'))"
   ]
  },
  {
   "cell_type": "code",
   "execution_count": 13,
   "metadata": {},
   "outputs": [
    {
     "name": "stdout",
     "output_type": "stream",
     "text": [
      "WARNING:tensorflow:From C:\\Users\\Azhar\\Anaconda3\\lib\\site-packages\\tensorflow\\python\\ops\\nn_impl.py:180: add_dispatch_support.<locals>.wrapper (from tensorflow.python.ops.array_ops) is deprecated and will be removed in a future version.\n",
      "Instructions for updating:\n",
      "Use tf.where in 2.0, which has the same broadcast rule as np.where\n"
     ]
    },
    {
     "name": "stderr",
     "output_type": "stream",
     "text": [
      "C:\\Users\\Azhar\\Anaconda3\\lib\\site-packages\\ipykernel_launcher.py:5: UserWarning: The `nb_epoch` argument in `fit` has been renamed `epochs`.\n",
      "  \"\"\"\n"
     ]
    },
    {
     "name": "stdout",
     "output_type": "stream",
     "text": [
      "WARNING:tensorflow:From C:\\Users\\Azhar\\Anaconda3\\lib\\site-packages\\keras\\backend\\tensorflow_backend.py:422: The name tf.global_variables is deprecated. Please use tf.compat.v1.global_variables instead.\n",
      "\n",
      "Train on 5359 samples, validate on 2641 samples\n",
      "Epoch 1/100\n",
      "5359/5359 [==============================] - 1s 105us/step - loss: 0.6585 - accuracy: 0.6525 - val_loss: 0.5341 - val_accuracy: 0.7906\n",
      "Epoch 2/100\n",
      "5359/5359 [==============================] - 0s 82us/step - loss: 0.4997 - accuracy: 0.7936 - val_loss: 0.4927 - val_accuracy: 0.7952\n",
      "Epoch 3/100\n",
      "5359/5359 [==============================] - 0s 84us/step - loss: 0.4695 - accuracy: 0.7972 - val_loss: 0.4713 - val_accuracy: 0.7970\n",
      "Epoch 4/100\n",
      "5359/5359 [==============================] - 0s 81us/step - loss: 0.4530 - accuracy: 0.7994 - val_loss: 0.4598 - val_accuracy: 0.7993\n",
      "Epoch 5/100\n",
      "5359/5359 [==============================] - 0s 81us/step - loss: 0.4436 - accuracy: 0.7998 - val_loss: 0.4518 - val_accuracy: 0.7997\n",
      "Epoch 6/100\n",
      "5359/5359 [==============================] - 0s 81us/step - loss: 0.4364 - accuracy: 0.8022 - val_loss: 0.4459 - val_accuracy: 0.8012\n",
      "Epoch 7/100\n",
      "5359/5359 [==============================] - 0s 78us/step - loss: 0.4308 - accuracy: 0.8039 - val_loss: 0.4408 - val_accuracy: 0.8008\n",
      "Epoch 8/100\n",
      "5359/5359 [==============================] - 0s 90us/step - loss: 0.4258 - accuracy: 0.8082 - val_loss: 0.4366 - val_accuracy: 0.8031\n",
      "Epoch 9/100\n",
      "5359/5359 [==============================] - 0s 93us/step - loss: 0.4223 - accuracy: 0.8067 - val_loss: 0.4333 - val_accuracy: 0.8039\n",
      "Epoch 10/100\n",
      "5359/5359 [==============================] - 1s 103us/step - loss: 0.4191 - accuracy: 0.8085 - val_loss: 0.4304 - val_accuracy: 0.8073\n",
      "Epoch 11/100\n",
      "5359/5359 [==============================] - 0s 90us/step - loss: 0.4160 - accuracy: 0.8108 - val_loss: 0.4292 - val_accuracy: 0.8073\n",
      "Epoch 12/100\n",
      "5359/5359 [==============================] - 0s 85us/step - loss: 0.4141 - accuracy: 0.8123 - val_loss: 0.4261 - val_accuracy: 0.8122\n",
      "Epoch 13/100\n",
      "5359/5359 [==============================] - 0s 89us/step - loss: 0.4120 - accuracy: 0.8151 - val_loss: 0.4243 - val_accuracy: 0.8122\n",
      "Epoch 14/100\n",
      "5359/5359 [==============================] - 0s 81us/step - loss: 0.4096 - accuracy: 0.8173 - val_loss: 0.4232 - val_accuracy: 0.8164\n",
      "Epoch 15/100\n",
      "5359/5359 [==============================] - 0s 84us/step - loss: 0.4084 - accuracy: 0.8188 - val_loss: 0.4210 - val_accuracy: 0.8175\n",
      "Epoch 16/100\n",
      "5359/5359 [==============================] - 0s 81us/step - loss: 0.4068 - accuracy: 0.8188 - val_loss: 0.4197 - val_accuracy: 0.8167\n",
      "Epoch 17/100\n",
      "5359/5359 [==============================] - 0s 81us/step - loss: 0.4054 - accuracy: 0.8210 - val_loss: 0.4182 - val_accuracy: 0.8171\n",
      "Epoch 18/100\n",
      "5359/5359 [==============================] - 0s 87us/step - loss: 0.4037 - accuracy: 0.8222 - val_loss: 0.4168 - val_accuracy: 0.8198\n",
      "Epoch 19/100\n",
      "5359/5359 [==============================] - 0s 84us/step - loss: 0.4023 - accuracy: 0.8205 - val_loss: 0.4155 - val_accuracy: 0.8198\n",
      "Epoch 20/100\n",
      "5359/5359 [==============================] - 0s 86us/step - loss: 0.4011 - accuracy: 0.8242 - val_loss: 0.4141 - val_accuracy: 0.8183\n",
      "Epoch 21/100\n",
      "5359/5359 [==============================] - 0s 84us/step - loss: 0.3996 - accuracy: 0.8253 - val_loss: 0.4128 - val_accuracy: 0.8198\n",
      "Epoch 22/100\n",
      "5359/5359 [==============================] - 0s 90us/step - loss: 0.3983 - accuracy: 0.8261 - val_loss: 0.4113 - val_accuracy: 0.8205\n",
      "Epoch 23/100\n",
      "5359/5359 [==============================] - 0s 90us/step - loss: 0.3969 - accuracy: 0.8266 - val_loss: 0.4101 - val_accuracy: 0.8209\n",
      "Epoch 24/100\n",
      "5359/5359 [==============================] - 0s 81us/step - loss: 0.3957 - accuracy: 0.8270 - val_loss: 0.4089 - val_accuracy: 0.8201\n",
      "Epoch 25/100\n",
      "5359/5359 [==============================] - 0s 87us/step - loss: 0.3945 - accuracy: 0.8259 - val_loss: 0.4076 - val_accuracy: 0.8217\n",
      "Epoch 26/100\n",
      "5359/5359 [==============================] - 0s 81us/step - loss: 0.3933 - accuracy: 0.8263 - val_loss: 0.4064 - val_accuracy: 0.8236\n",
      "Epoch 27/100\n",
      "5359/5359 [==============================] - 0s 83us/step - loss: 0.3920 - accuracy: 0.8274 - val_loss: 0.4052 - val_accuracy: 0.8217\n",
      "Epoch 28/100\n",
      "5359/5359 [==============================] - 0s 84us/step - loss: 0.3905 - accuracy: 0.8280 - val_loss: 0.4040 - val_accuracy: 0.8232\n",
      "Epoch 29/100\n",
      "5359/5359 [==============================] - 0s 85us/step - loss: 0.3893 - accuracy: 0.8293 - val_loss: 0.4028 - val_accuracy: 0.8236\n",
      "Epoch 30/100\n",
      "5359/5359 [==============================] - 0s 83us/step - loss: 0.3877 - accuracy: 0.8289 - val_loss: 0.4019 - val_accuracy: 0.8239\n",
      "Epoch 31/100\n",
      "5359/5359 [==============================] - 0s 86us/step - loss: 0.3867 - accuracy: 0.8296 - val_loss: 0.4013 - val_accuracy: 0.8251\n",
      "Epoch 32/100\n",
      "5359/5359 [==============================] - 0s 81us/step - loss: 0.3854 - accuracy: 0.8294 - val_loss: 0.3999 - val_accuracy: 0.8239\n",
      "Epoch 33/100\n",
      "5359/5359 [==============================] - 0s 81us/step - loss: 0.3840 - accuracy: 0.8285 - val_loss: 0.3995 - val_accuracy: 0.8254\n",
      "Epoch 34/100\n",
      "5359/5359 [==============================] - 0s 90us/step - loss: 0.3833 - accuracy: 0.8294 - val_loss: 0.3979 - val_accuracy: 0.8217\n",
      "Epoch 35/100\n",
      "5359/5359 [==============================] - 0s 84us/step - loss: 0.3821 - accuracy: 0.8296 - val_loss: 0.3971 - val_accuracy: 0.8228\n",
      "Epoch 36/100\n",
      "5359/5359 [==============================] - 0s 85us/step - loss: 0.3807 - accuracy: 0.8311 - val_loss: 0.3963 - val_accuracy: 0.8232\n",
      "Epoch 37/100\n",
      "5359/5359 [==============================] - 0s 85us/step - loss: 0.3797 - accuracy: 0.8321 - val_loss: 0.3954 - val_accuracy: 0.8239\n",
      "Epoch 38/100\n",
      "5359/5359 [==============================] - 0s 85us/step - loss: 0.3787 - accuracy: 0.8319 - val_loss: 0.3944 - val_accuracy: 0.8243\n",
      "Epoch 39/100\n",
      "5359/5359 [==============================] - 0s 93us/step - loss: 0.3777 - accuracy: 0.8339 - val_loss: 0.3936 - val_accuracy: 0.8270\n",
      "Epoch 40/100\n",
      "5359/5359 [==============================] - 1s 97us/step - loss: 0.3763 - accuracy: 0.8349 - val_loss: 0.3933 - val_accuracy: 0.8266\n",
      "Epoch 41/100\n",
      "5359/5359 [==============================] - 0s 89us/step - loss: 0.3753 - accuracy: 0.8362 - val_loss: 0.3915 - val_accuracy: 0.8292\n",
      "Epoch 42/100\n",
      "5359/5359 [==============================] - 1s 94us/step - loss: 0.3739 - accuracy: 0.8375 - val_loss: 0.3902 - val_accuracy: 0.8311\n",
      "Epoch 43/100\n",
      "5359/5359 [==============================] - 1s 115us/step - loss: 0.3727 - accuracy: 0.8395 - val_loss: 0.3902 - val_accuracy: 0.8311\n",
      "Epoch 44/100\n",
      "5359/5359 [==============================] - 1s 116us/step - loss: 0.3716 - accuracy: 0.8403 - val_loss: 0.3884 - val_accuracy: 0.8342\n",
      "Epoch 45/100\n",
      "5359/5359 [==============================] - 1s 107us/step - loss: 0.3703 - accuracy: 0.8427 - val_loss: 0.3876 - val_accuracy: 0.8330\n",
      "Epoch 46/100\n",
      "5359/5359 [==============================] - 1s 93us/step - loss: 0.3691 - accuracy: 0.8434 - val_loss: 0.3861 - val_accuracy: 0.8345\n",
      "Epoch 47/100\n",
      "5359/5359 [==============================] - 1s 94us/step - loss: 0.3677 - accuracy: 0.8457 - val_loss: 0.3851 - val_accuracy: 0.8330\n",
      "Epoch 48/100\n",
      "5359/5359 [==============================] - 0s 88us/step - loss: 0.3662 - accuracy: 0.8446 - val_loss: 0.3835 - val_accuracy: 0.8342\n",
      "Epoch 49/100\n",
      "5359/5359 [==============================] - 0s 92us/step - loss: 0.3650 - accuracy: 0.8453 - val_loss: 0.3823 - val_accuracy: 0.8360\n",
      "Epoch 50/100\n",
      "5359/5359 [==============================] - 0s 88us/step - loss: 0.3635 - accuracy: 0.8459 - val_loss: 0.3810 - val_accuracy: 0.8349\n",
      "Epoch 51/100\n",
      "5359/5359 [==============================] - 0s 81us/step - loss: 0.3617 - accuracy: 0.8468 - val_loss: 0.3804 - val_accuracy: 0.8349\n",
      "Epoch 52/100\n",
      "5359/5359 [==============================] - 0s 85us/step - loss: 0.3603 - accuracy: 0.8470 - val_loss: 0.3785 - val_accuracy: 0.8383\n",
      "Epoch 53/100\n",
      "5359/5359 [==============================] - 0s 84us/step - loss: 0.3590 - accuracy: 0.8496 - val_loss: 0.3773 - val_accuracy: 0.8402\n",
      "Epoch 54/100\n",
      "5359/5359 [==============================] - 0s 88us/step - loss: 0.3576 - accuracy: 0.8509 - val_loss: 0.3763 - val_accuracy: 0.8398\n",
      "Epoch 55/100\n"
     ]
    },
    {
     "name": "stdout",
     "output_type": "stream",
     "text": [
      "5359/5359 [==============================] - 0s 86us/step - loss: 0.3558 - accuracy: 0.8518 - val_loss: 0.3758 - val_accuracy: 0.8421\n",
      "Epoch 56/100\n",
      "5359/5359 [==============================] - 0s 86us/step - loss: 0.3549 - accuracy: 0.8503 - val_loss: 0.3739 - val_accuracy: 0.8421\n",
      "Epoch 57/100\n",
      "5359/5359 [==============================] - 0s 79us/step - loss: 0.3532 - accuracy: 0.8526 - val_loss: 0.3745 - val_accuracy: 0.8395\n",
      "Epoch 58/100\n",
      "5359/5359 [==============================] - 0s 81us/step - loss: 0.3524 - accuracy: 0.8515 - val_loss: 0.3718 - val_accuracy: 0.8436\n",
      "Epoch 59/100\n",
      "5359/5359 [==============================] - 0s 87us/step - loss: 0.3504 - accuracy: 0.8528 - val_loss: 0.3715 - val_accuracy: 0.8451\n",
      "Epoch 60/100\n",
      "5359/5359 [==============================] - 0s 86us/step - loss: 0.3492 - accuracy: 0.8526 - val_loss: 0.3697 - val_accuracy: 0.8459\n",
      "Epoch 61/100\n",
      "5359/5359 [==============================] - 0s 85us/step - loss: 0.3483 - accuracy: 0.8528 - val_loss: 0.3691 - val_accuracy: 0.8448\n",
      "Epoch 62/100\n",
      "5359/5359 [==============================] - 0s 85us/step - loss: 0.3472 - accuracy: 0.8545 - val_loss: 0.3686 - val_accuracy: 0.8451\n",
      "Epoch 63/100\n",
      "5359/5359 [==============================] - 0s 84us/step - loss: 0.3463 - accuracy: 0.8546 - val_loss: 0.3675 - val_accuracy: 0.8463\n",
      "Epoch 64/100\n",
      "5359/5359 [==============================] - 0s 86us/step - loss: 0.3450 - accuracy: 0.8558 - val_loss: 0.3665 - val_accuracy: 0.8455\n",
      "Epoch 65/100\n",
      "5359/5359 [==============================] - 0s 85us/step - loss: 0.3443 - accuracy: 0.8565 - val_loss: 0.3656 - val_accuracy: 0.8474\n",
      "Epoch 66/100\n",
      "5359/5359 [==============================] - 0s 79us/step - loss: 0.3431 - accuracy: 0.8565 - val_loss: 0.3652 - val_accuracy: 0.8451\n",
      "Epoch 67/100\n",
      "5359/5359 [==============================] - 0s 90us/step - loss: 0.3422 - accuracy: 0.8561 - val_loss: 0.3643 - val_accuracy: 0.8474\n",
      "Epoch 68/100\n",
      "5359/5359 [==============================] - 0s 87us/step - loss: 0.3410 - accuracy: 0.8599 - val_loss: 0.3643 - val_accuracy: 0.8463\n",
      "Epoch 69/100\n",
      "5359/5359 [==============================] - 0s 86us/step - loss: 0.3403 - accuracy: 0.8567 - val_loss: 0.3630 - val_accuracy: 0.8474\n",
      "Epoch 70/100\n",
      "5359/5359 [==============================] - 0s 85us/step - loss: 0.3394 - accuracy: 0.8572 - val_loss: 0.3623 - val_accuracy: 0.8497\n",
      "Epoch 71/100\n",
      "5359/5359 [==============================] - 0s 86us/step - loss: 0.3387 - accuracy: 0.8589 - val_loss: 0.3623 - val_accuracy: 0.8474\n",
      "Epoch 72/100\n",
      "5359/5359 [==============================] - 0s 88us/step - loss: 0.3379 - accuracy: 0.8578 - val_loss: 0.3627 - val_accuracy: 0.8466\n",
      "Epoch 73/100\n",
      "5359/5359 [==============================] - 0s 83us/step - loss: 0.3371 - accuracy: 0.8587 - val_loss: 0.3615 - val_accuracy: 0.8478\n",
      "Epoch 74/100\n",
      "5359/5359 [==============================] - 0s 81us/step - loss: 0.3364 - accuracy: 0.8593 - val_loss: 0.3617 - val_accuracy: 0.8493\n",
      "Epoch 75/100\n",
      "5359/5359 [==============================] - 0s 84us/step - loss: 0.3361 - accuracy: 0.8606 - val_loss: 0.3614 - val_accuracy: 0.8482\n",
      "Epoch 76/100\n",
      "5359/5359 [==============================] - 0s 84us/step - loss: 0.3353 - accuracy: 0.8615 - val_loss: 0.3604 - val_accuracy: 0.8489\n",
      "Epoch 77/100\n",
      "5359/5359 [==============================] - 1s 96us/step - loss: 0.3352 - accuracy: 0.8591 - val_loss: 0.3598 - val_accuracy: 0.8485\n",
      "Epoch 78/100\n",
      "5359/5359 [==============================] - 1s 103us/step - loss: 0.3342 - accuracy: 0.8602 - val_loss: 0.3605 - val_accuracy: 0.8508\n",
      "Epoch 79/100\n",
      "5359/5359 [==============================] - 1s 94us/step - loss: 0.3342 - accuracy: 0.8606 - val_loss: 0.3597 - val_accuracy: 0.8493\n",
      "Epoch 80/100\n",
      "5359/5359 [==============================] - 0s 89us/step - loss: 0.3340 - accuracy: 0.8619 - val_loss: 0.3591 - val_accuracy: 0.8497\n",
      "Epoch 81/100\n",
      "5359/5359 [==============================] - 0s 88us/step - loss: 0.3335 - accuracy: 0.8597 - val_loss: 0.3587 - val_accuracy: 0.8493\n",
      "Epoch 82/100\n",
      "5359/5359 [==============================] - 1s 94us/step - loss: 0.3328 - accuracy: 0.8612 - val_loss: 0.3594 - val_accuracy: 0.8497\n",
      "Epoch 83/100\n",
      "5359/5359 [==============================] - 0s 84us/step - loss: 0.3327 - accuracy: 0.8608 - val_loss: 0.3589 - val_accuracy: 0.8516\n",
      "Epoch 84/100\n",
      "5359/5359 [==============================] - 0s 86us/step - loss: 0.3321 - accuracy: 0.8610 - val_loss: 0.3585 - val_accuracy: 0.8516\n",
      "Epoch 85/100\n",
      "5359/5359 [==============================] - 0s 90us/step - loss: 0.3319 - accuracy: 0.8610 - val_loss: 0.3584 - val_accuracy: 0.8508\n",
      "Epoch 86/100\n",
      "5359/5359 [==============================] - 0s 85us/step - loss: 0.3319 - accuracy: 0.8600 - val_loss: 0.3581 - val_accuracy: 0.8512\n",
      "Epoch 87/100\n",
      "5359/5359 [==============================] - 0s 86us/step - loss: 0.3315 - accuracy: 0.8602 - val_loss: 0.3583 - val_accuracy: 0.8527\n",
      "Epoch 88/100\n",
      "5359/5359 [==============================] - 0s 87us/step - loss: 0.3315 - accuracy: 0.8610 - val_loss: 0.3578 - val_accuracy: 0.8516\n",
      "Epoch 89/100\n",
      "5359/5359 [==============================] - 0s 93us/step - loss: 0.3312 - accuracy: 0.8606 - val_loss: 0.3575 - val_accuracy: 0.8508\n",
      "Epoch 90/100\n",
      "5359/5359 [==============================] - 0s 92us/step - loss: 0.3308 - accuracy: 0.8614 - val_loss: 0.3580 - val_accuracy: 0.8519\n",
      "Epoch 91/100\n",
      "5359/5359 [==============================] - 1s 95us/step - loss: 0.3306 - accuracy: 0.8612 - val_loss: 0.3575 - val_accuracy: 0.8519\n",
      "Epoch 92/100\n",
      "5359/5359 [==============================] - 0s 87us/step - loss: 0.3306 - accuracy: 0.8608 - val_loss: 0.3570 - val_accuracy: 0.8516\n",
      "Epoch 93/100\n",
      "5359/5359 [==============================] - 0s 92us/step - loss: 0.3302 - accuracy: 0.8615 - val_loss: 0.3569 - val_accuracy: 0.8504\n",
      "Epoch 94/100\n",
      "5359/5359 [==============================] - 1s 94us/step - loss: 0.3302 - accuracy: 0.8599 - val_loss: 0.3567 - val_accuracy: 0.8504\n",
      "Epoch 95/100\n",
      "5359/5359 [==============================] - 0s 90us/step - loss: 0.3300 - accuracy: 0.8619 - val_loss: 0.3570 - val_accuracy: 0.8516\n",
      "Epoch 96/100\n",
      "5359/5359 [==============================] - 0s 93us/step - loss: 0.3298 - accuracy: 0.8591 - val_loss: 0.3571 - val_accuracy: 0.8501\n",
      "Epoch 97/100\n",
      "5359/5359 [==============================] - 0s 85us/step - loss: 0.3297 - accuracy: 0.8630 - val_loss: 0.3567 - val_accuracy: 0.8501\n",
      "Epoch 98/100\n",
      "5359/5359 [==============================] - 0s 93us/step - loss: 0.3294 - accuracy: 0.8625 - val_loss: 0.3572 - val_accuracy: 0.8504\n",
      "Epoch 99/100\n",
      "5359/5359 [==============================] - 0s 87us/step - loss: 0.3296 - accuracy: 0.8630 - val_loss: 0.3564 - val_accuracy: 0.8508\n",
      "Epoch 100/100\n",
      "5359/5359 [==============================] - 0s 89us/step - loss: 0.3292 - accuracy: 0.8612 - val_loss: 0.3558 - val_accuracy: 0.8542\n"
     ]
    }
   ],
   "source": [
    "# Compiling the ANN\n",
    "classifier.compile(optimizer = 'Adamax', loss = 'binary_crossentropy', metrics = ['accuracy'])\n",
    "\n",
    "# Fitting the ANN to the Training set\n",
    "model_history=classifier.fit(X_train, y_train,validation_split=0.33, batch_size = 10, nb_epoch = 100)"
   ]
  },
  {
   "cell_type": "code",
   "execution_count": 14,
   "metadata": {},
   "outputs": [],
   "source": [
    "# Part 3 - Making the predictions and evaluating the model\n",
    "\n",
    "# Predicting the Test set results\n",
    "y_pred = classifier.predict(X_test)\n",
    "y_pred = (y_pred > 0.5)"
   ]
  },
  {
   "cell_type": "code",
   "execution_count": 15,
   "metadata": {},
   "outputs": [],
   "source": [
    "# Making the Confusion Matrix\n",
    "from sklearn.metrics import confusion_matrix\n",
    "cm = confusion_matrix(y_test, y_pred)"
   ]
  },
  {
   "cell_type": "code",
   "execution_count": 16,
   "metadata": {},
   "outputs": [],
   "source": [
    "# Calculate the Accuracy\n",
    "from sklearn.metrics import accuracy_score\n",
    "score=accuracy_score(y_pred,y_test)"
   ]
  },
  {
   "cell_type": "code",
   "execution_count": 17,
   "metadata": {},
   "outputs": [
    {
     "data": {
      "text/plain": [
       "0.8575"
      ]
     },
     "execution_count": 17,
     "metadata": {},
     "output_type": "execute_result"
    }
   ],
   "source": [
    "score"
   ]
  },
  {
   "cell_type": "code",
   "execution_count": 18,
   "metadata": {},
   "outputs": [],
   "source": [
    "## Perform Hyperparameter Optimization\n",
    "\n",
    "from keras.wrappers.scikit_learn import KerasClassifier\n",
    "from sklearn.model_selection import GridSearchCV\n",
    "\n",
    "from keras.models import Sequential\n",
    "from keras.layers import Dense, Activation, Embedding, Flatten, LeakyReLU, BatchNormalization, Dropout\n",
    "from keras.activations import relu, sigmoid"
   ]
  },
  {
   "cell_type": "code",
   "execution_count": 19,
   "metadata": {},
   "outputs": [],
   "source": [
    "def create_model(layers, activation):\n",
    "    model = Sequential()\n",
    "    for i, nodes in enumerate(layers):\n",
    "        if i==0:\n",
    "            model.add(Dense(nodes,input_dim=X_train.shape[1]))\n",
    "            model.add(Activation(activation))\n",
    "            model.add(Dropout(0.3))\n",
    "        else:\n",
    "            model.add(Dense(nodes))\n",
    "            model.add(Activation(activation))\n",
    "            model.add(Dropout(0.3))\n",
    "            \n",
    "    model.add(Dense(units = 1, kernel_initializer= 'glorot_uniform', activation = 'sigmoid')) # Note: no activation beyond this point\n",
    "    \n",
    "    model.compile(optimizer='adam', loss='binary_crossentropy',metrics=['accuracy'])\n",
    "    return model"
   ]
  },
  {
   "cell_type": "code",
   "execution_count": 20,
   "metadata": {},
   "outputs": [],
   "source": [
    "model = KerasClassifier(build_fn=create_model, verbose=0)"
   ]
  },
  {
   "cell_type": "code",
   "execution_count": 23,
   "metadata": {},
   "outputs": [],
   "source": [
    "layers = [(10), (20, 10), (10, 20, 15)]\n",
    "activations = ['sigmoid', 'relu']\n",
    "param_grid = dict(layers=layers, activation=activations, batch_size = [128, 256], epochs=[30])\n",
    "grid = GridSearchCV(estimator=model, param_grid=param_grid,cv=5)"
   ]
  },
  {
   "cell_type": "code",
   "execution_count": 24,
   "metadata": {},
   "outputs": [
    {
     "name": "stderr",
     "output_type": "stream",
     "text": [
      "C:\\Users\\Azhar\\Anaconda3\\lib\\site-packages\\sklearn\\model_selection\\_validation.py:536: FitFailedWarning: Estimator fit failed. The score on this train-test partition for these parameters will be set to nan. Details: \n",
      "TypeError: 'int' object is not iterable\n",
      "\n",
      "  FitFailedWarning)\n"
     ]
    }
   ],
   "source": [
    "grid_result = grid.fit(X_train, y_train)"
   ]
  },
  {
   "cell_type": "code",
   "execution_count": 25,
   "metadata": {},
   "outputs": [
    {
     "data": {
      "text/plain": [
       "0.8451250076293946"
      ]
     },
     "execution_count": 25,
     "metadata": {},
     "output_type": "execute_result"
    }
   ],
   "source": [
    "grid_result.best_score_"
   ]
  },
  {
   "cell_type": "code",
   "execution_count": 26,
   "metadata": {},
   "outputs": [
    {
     "data": {
      "text/plain": [
       "{'activation': 'relu', 'batch_size': 128, 'epochs': 30, 'layers': (20, 10)}"
      ]
     },
     "execution_count": 26,
     "metadata": {},
     "output_type": "execute_result"
    }
   ],
   "source": [
    "grid_result.best_params_"
   ]
  },
  {
   "cell_type": "code",
   "execution_count": 27,
   "metadata": {},
   "outputs": [],
   "source": [
    "# Predicting the Test set results\n",
    "pred_y = grid.predict(X_test)\n",
    "y_pred = (pred_y > 0.5)"
   ]
  },
  {
   "cell_type": "code",
   "execution_count": 28,
   "metadata": {},
   "outputs": [],
   "source": [
    "# Making the Confusion Matrix\n",
    "from sklearn.metrics import confusion_matrix\n",
    "cm = confusion_matrix(y_test, y_pred)"
   ]
  },
  {
   "cell_type": "code",
   "execution_count": 29,
   "metadata": {},
   "outputs": [],
   "source": [
    "# Calculate the Accuracy\n",
    "from sklearn.metrics import accuracy_score\n",
    "score=accuracy_score(y_pred,y_test)"
   ]
  },
  {
   "cell_type": "code",
   "execution_count": 30,
   "metadata": {},
   "outputs": [
    {
     "data": {
      "text/plain": [
       "0.8595"
      ]
     },
     "execution_count": 30,
     "metadata": {},
     "output_type": "execute_result"
    }
   ],
   "source": [
    "score"
   ]
  },
  {
   "cell_type": "code",
   "execution_count": null,
   "metadata": {},
   "outputs": [],
   "source": []
  }
 ],
 "metadata": {
  "kernelspec": {
   "display_name": "Python 3",
   "language": "python",
   "name": "python3"
  },
  "language_info": {
   "codemirror_mode": {
    "name": "ipython",
    "version": 3
   },
   "file_extension": ".py",
   "mimetype": "text/x-python",
   "name": "python",
   "nbconvert_exporter": "python",
   "pygments_lexer": "ipython3",
   "version": "3.7.4"
  }
 },
 "nbformat": 4,
 "nbformat_minor": 2
}
